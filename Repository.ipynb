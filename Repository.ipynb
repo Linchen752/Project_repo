{
 "cells": [
  {
   "cell_type": "code",
   "execution_count": 6,
   "id": "c5f4f2a6-0b1e-4917-b7f1-673b198611de",
   "metadata": {},
   "outputs": [
    {
     "name": "stdout",
     "output_type": "stream",
     "text": [
      "Hello Alina\n"
     ]
    }
   ],
   "source": [
    "print(\"Hello Alina\")\n",
    "print(\"This is a demo\")"
   ]
  }
 ],
 "metadata": {
  "kernelspec": {
   "display_name": "base",
   "language": "python",
   "name": "python3"
  },
  "language_info": {
   "codemirror_mode": {
    "name": "ipython",
    "version": 3
   },
   "file_extension": ".py",
   "mimetype": "text/x-python",
   "name": "python",
   "nbconvert_exporter": "python",
   "pygments_lexer": "ipython3",
   "version": "3.12.4"
  }
 },
 "nbformat": 4,
 "nbformat_minor": 5
}
